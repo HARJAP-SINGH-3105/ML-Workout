{
 "cells": [
  {
   "cell_type": "code",
   "execution_count": 1,
   "id": "ff472e97",
   "metadata": {},
   "outputs": [],
   "source": [
    "import numpy as np\n",
    "from matplotlib import pyplot as plt"
   ]
  },
  {
   "cell_type": "code",
   "execution_count": 16,
   "id": "3955d7ec",
   "metadata": {},
   "outputs": [],
   "source": [
    "#  from sklearn.utils.multiclass import unique_labels"
   ]
  },
  {
   "cell_type": "code",
   "execution_count": 4,
   "id": "ee76cb1d",
   "metadata": {},
   "outputs": [],
   "source": [
    "X_seen= np.load('/Users/harry/Downloads/cs-771/data/AwA_python/X_seen.npy', allow_pickle =True,encoding ='bytes')"
   ]
  },
  {
   "cell_type": "code",
   "execution_count": 5,
   "id": "c9a84bf9",
   "metadata": {},
   "outputs": [],
   "source": [
    "X_test =  np.load('/Users/harry/Downloads/cs-771/data/AwA_python/Xtest.npy', allow_pickle =True,encoding ='bytes')\n",
    "Y_test =  np.load('/Users/harry/Downloads/cs-771/data/AwA_python/Ytest.npy', allow_pickle =True,encoding ='bytes')\n",
    "ca_seen =  np.load('/Users/harry/Downloads/cs-771/data/AwA_python/class_attributes_seen.npy', allow_pickle =True,encoding ='bytes')\n",
    "ca_unseen = np.load('/Users/harry/Downloads/cs-771/data/AwA_python/class_attributes_unseen.npy', allow_pickle =True,encoding ='bytes')"
   ]
  },
  {
   "cell_type": "code",
   "execution_count": 6,
   "id": "dc336e4d",
   "metadata": {},
   "outputs": [
    {
     "data": {
      "text/plain": [
       "(40, 85)"
      ]
     },
     "execution_count": 6,
     "metadata": {},
     "output_type": "execute_result"
    }
   ],
   "source": [
    "ca_seen.shape"
   ]
  },
  {
   "cell_type": "code",
   "execution_count": 7,
   "id": "0e24d129",
   "metadata": {},
   "outputs": [
    {
     "data": {
      "text/plain": [
       "(10, 85)"
      ]
     },
     "execution_count": 7,
     "metadata": {},
     "output_type": "execute_result"
    }
   ],
   "source": [
    "ca_unseen.shape"
   ]
  },
  {
   "cell_type": "code",
   "execution_count": 8,
   "id": "71aaf282",
   "metadata": {},
   "outputs": [
    {
     "data": {
      "text/plain": [
       "40"
      ]
     },
     "execution_count": 8,
     "metadata": {},
     "output_type": "execute_result"
    }
   ],
   "source": [
    "#Computing mean of each seen class:\n",
    "mean_seen=[]\n",
    "for i in range(0,40):\n",
    "    mean_seen.append(np.mean(X_seen[i],axis=0))\n",
    "\n",
    "len(mean_seen)"
   ]
  },
  {
   "cell_type": "code",
   "execution_count": 9,
   "id": "c03428f8",
   "metadata": {},
   "outputs": [],
   "source": [
    "# Compute Similarity Coefficent -> ca_unseen*(ca_seen)^Tranpose = A = 10 X 40\n",
    "A = np.matmul(ca_unseen,ca_seen.transpose())"
   ]
  },
  {
   "cell_type": "code",
   "execution_count": 10,
   "id": "515f55d0",
   "metadata": {},
   "outputs": [],
   "source": [
    "#For normalizing Calculating total weight\n",
    "total_weight = np.sum(A,axis=1)\n",
    "\n",
    "## Normailizng each of dot product with respecctive total weight\n",
    "for i in range(0,10):\n",
    "    A[i] = A[i]/total_weight[i]\n"
   ]
  },
  {
   "cell_type": "code",
   "execution_count": 11,
   "id": "1c0cb3fb",
   "metadata": {},
   "outputs": [
    {
     "data": {
      "text/plain": [
       "array([1., 1., 1., 1., 1., 1., 1., 1., 1., 1.])"
      ]
     },
     "execution_count": 11,
     "metadata": {},
     "output_type": "execute_result"
    }
   ],
   "source": [
    "## Just verifying that whether weights statisfyes convex combination condition i.e. their sum =1\n",
    "np.sum(A,axis=1)\n"
   ]
  },
  {
   "cell_type": "code",
   "execution_count": 12,
   "id": "0ec8d74a",
   "metadata": {},
   "outputs": [],
   "source": [
    "## Hence Verified above....as sum=1"
   ]
  },
  {
   "cell_type": "code",
   "execution_count": 13,
   "id": "4f180630",
   "metadata": {},
   "outputs": [
    {
     "data": {
      "text/plain": [
       "(10, 4096)"
      ]
     },
     "execution_count": 13,
     "metadata": {},
     "output_type": "execute_result"
    }
   ],
   "source": [
    "##Now just multiply A with mean_seen to get mean_unseen\n",
    "mean_seen=np.array(mean_seen).reshape(40,4096)\n",
    "mean_unseen = np.matmul(A,mean_seen)\n",
    "mean_unseen.shape"
   ]
  },
  {
   "cell_type": "code",
   "execution_count": 17,
   "id": "6dce5aa3",
   "metadata": {},
   "outputs": [
    {
     "ename": "TypeError",
     "evalue": "'function' object is not subscriptable",
     "output_type": "error",
     "traceback": [
      "\u001b[0;31m---------------------------------------------------------------------------\u001b[0m",
      "\u001b[0;31mTypeError\u001b[0m                                 Traceback (most recent call last)",
      "Cell \u001b[0;32mIn[17], line 3\u001b[0m\n\u001b[1;32m      1\u001b[0m \u001b[38;5;66;03m## Making prediction\u001b[39;00m\n\u001b[0;32m----> 3\u001b[0m predicted_labels \u001b[38;5;241m=\u001b[39m [unique_labels[np\u001b[38;5;241m.\u001b[39margmin(np\u001b[38;5;241m.\u001b[39mlinalg\u001b[38;5;241m.\u001b[39mnorm(sample \u001b[38;5;241m-\u001b[39m mean_unseen, axis\u001b[38;5;241m=\u001b[39m\u001b[38;5;241m1\u001b[39m))] \u001b[38;5;28;01mfor\u001b[39;00m sample \u001b[38;5;129;01min\u001b[39;00m X_test]\n",
      "Cell \u001b[0;32mIn[17], line 3\u001b[0m, in \u001b[0;36m<listcomp>\u001b[0;34m(.0)\u001b[0m\n\u001b[1;32m      1\u001b[0m \u001b[38;5;66;03m## Making prediction\u001b[39;00m\n\u001b[0;32m----> 3\u001b[0m predicted_labels \u001b[38;5;241m=\u001b[39m [\u001b[43munique_labels\u001b[49m\u001b[43m[\u001b[49m\u001b[43mnp\u001b[49m\u001b[38;5;241;43m.\u001b[39;49m\u001b[43margmin\u001b[49m\u001b[43m(\u001b[49m\u001b[43mnp\u001b[49m\u001b[38;5;241;43m.\u001b[39;49m\u001b[43mlinalg\u001b[49m\u001b[38;5;241;43m.\u001b[39;49m\u001b[43mnorm\u001b[49m\u001b[43m(\u001b[49m\u001b[43msample\u001b[49m\u001b[43m \u001b[49m\u001b[38;5;241;43m-\u001b[39;49m\u001b[43m \u001b[49m\u001b[43mmean_unseen\u001b[49m\u001b[43m,\u001b[49m\u001b[43m \u001b[49m\u001b[43maxis\u001b[49m\u001b[38;5;241;43m=\u001b[39;49m\u001b[38;5;241;43m1\u001b[39;49m\u001b[43m)\u001b[49m\u001b[43m)\u001b[49m\u001b[43m]\u001b[49m \u001b[38;5;28;01mfor\u001b[39;00m sample \u001b[38;5;129;01min\u001b[39;00m X_test]\n",
      "\u001b[0;31mTypeError\u001b[0m: 'function' object is not subscriptable"
     ]
    }
   ],
   "source": [
    "## Making prediction\n",
    "\n",
    "predicted_labels = [unique_labels[np.argmin(np.linalg.norm(sample - mean_unseen, axis=1))] for sample in X_test]\n"
   ]
  },
  {
   "cell_type": "code",
   "execution_count": 15,
   "id": "eaa725a0",
   "metadata": {},
   "outputs": [
    {
     "ename": "NameError",
     "evalue": "name 'predicted_labels' is not defined",
     "output_type": "error",
     "traceback": [
      "\u001b[0;31m---------------------------------------------------------------------------\u001b[0m",
      "\u001b[0;31mNameError\u001b[0m                                 Traceback (most recent call last)",
      "Cell \u001b[0;32mIn[15], line 4\u001b[0m\n\u001b[1;32m      2\u001b[0m correct \u001b[38;5;241m=\u001b[39m \u001b[38;5;241m0\u001b[39m\n\u001b[1;32m      3\u001b[0m \u001b[38;5;28;01mfor\u001b[39;00m i \u001b[38;5;129;01min\u001b[39;00m \u001b[38;5;28mrange\u001b[39m(\u001b[38;5;28mlen\u001b[39m(Y_test)):\n\u001b[0;32m----> 4\u001b[0m     \u001b[38;5;28;01mif\u001b[39;00m(Y_test[i]\u001b[38;5;241m==\u001b[39m\u001b[43mpredicted_labels\u001b[49m[i]):\n\u001b[1;32m      5\u001b[0m         correct\u001b[38;5;241m+\u001b[39m\u001b[38;5;241m=\u001b[39m\u001b[38;5;241m1\u001b[39m\n\u001b[1;32m      7\u001b[0m \u001b[38;5;28mprint\u001b[39m(\u001b[38;5;124m'\u001b[39m\u001b[38;5;124mAccuracy of Method 1 is \u001b[39m\u001b[38;5;132;01m{:.2f}\u001b[39;00m\u001b[38;5;124m%\u001b[39m\u001b[38;5;124m'\u001b[39m\u001b[38;5;241m.\u001b[39mformat(correct\u001b[38;5;241m*\u001b[39m\u001b[38;5;241m100\u001b[39m\u001b[38;5;241m/\u001b[39m\u001b[38;5;28mlen\u001b[39m(Y_test)))\n",
      "\u001b[0;31mNameError\u001b[0m: name 'predicted_labels' is not defined"
     ]
    }
   ],
   "source": [
    "##Calculating Accuracy:\n",
    "correct = 0\n",
    "for i in range(len(Y_test)):\n",
    "    if(Y_test[i]==predicted_labels[i]):\n",
    "        correct+=1\n",
    "\n",
    "print('Accuracy of Method 1 is {:.2f}%'.format(correct*100/len(Y_test)))"
   ]
  },
  {
   "cell_type": "code",
   "execution_count": null,
   "id": "c5cc7a0e",
   "metadata": {},
   "outputs": [],
   "source": []
  },
  {
   "cell_type": "code",
   "execution_count": null,
   "id": "df93d079",
   "metadata": {},
   "outputs": [],
   "source": []
  },
  {
   "cell_type": "code",
   "execution_count": null,
   "id": "e433a0fd",
   "metadata": {},
   "outputs": [],
   "source": []
  },
  {
   "cell_type": "code",
   "execution_count": null,
   "id": "dfd093ec",
   "metadata": {},
   "outputs": [],
   "source": []
  },
  {
   "cell_type": "code",
   "execution_count": null,
   "id": "b10a1437",
   "metadata": {},
   "outputs": [],
   "source": []
  }
 ],
 "metadata": {
  "kernelspec": {
   "display_name": "Python 3 (ipykernel)",
   "language": "python",
   "name": "python3"
  },
  "language_info": {
   "codemirror_mode": {
    "name": "ipython",
    "version": 3
   },
   "file_extension": ".py",
   "mimetype": "text/x-python",
   "name": "python",
   "nbconvert_exporter": "python",
   "pygments_lexer": "ipython3",
   "version": "3.10.11"
  }
 },
 "nbformat": 4,
 "nbformat_minor": 5
}
